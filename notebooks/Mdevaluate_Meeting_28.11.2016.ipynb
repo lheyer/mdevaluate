{
    "cells": [
        {
            "cell_type": "code",
            "execution_count": 1,
            "metadata": {
                "collapsed": false,
                "nbpresent": {
                    "id": "98ae23ea-571e-4f71-945f-a606d6924876"
                },
                "slideshow": {
                    "slide_type": "skip"
                },
                "id": "fdaafd4d-3541-4846-b319-fc7b569f57db",
                "focus": false
            },
            "outputs": [
                {
                    "name": "stdout",
                    "output_type": "stream",
                    "text": [
                        "Populating the interactive namespace from numpy and matplotlib\n"
                    ]
                }
            ],
            "source": [
                "import logging\n",
                "logging.basicConfig(level=logging.INFO)\n",
                "%pylab inline\n",
                "import mdevaluate as md\n",
                "import os\n",
                "%rm -r ./example_data/data"
            ]
        },
        {
            "cell_type": "markdown",
            "metadata": {
                "nbpresent": {
                    "id": "1f0c9a66-2a2e-4f2e-9454-a3a2ed2cd04b"
                },
                "slideshow": {
                    "slide_type": "slide"
                },
                "id": "f4dadaf9-d299-442b-b17d-73123564d608",
                "focus": false
            },
            "source": [
                "# State of Development: Mdevaluate\n",
                "\n",
                "Recent changes and new features:\n",
                "\n",
                "- **`shifted_correlation`: **\n",
                "  - Keyword `skip=` to skip part of a trajectory at the beginning for analysis\n",
                "- **Coherent Scattering Function**: Faster N² computations through `numba`\n",
                "  - `coherent_sum(f, x, y)`: $\\sum_{i,j} f(x[i], y[j])$\n",
                "  - `coherent_hist(f, x, y)`: `histogram`$([f(x[i], y[j]) \\quad \\forall i,j])$\n",
                "- **autosave.py**: \n",
                "  - Automatic storing & loading of evaluation results\n",
                "- **Periodic Boundary Conditions**: \n",
                "  - Compute the whole or nojump version of a frame (i.e. `gmx trajconv -pbc whole ...`)"
            ]
        },
        {
            "cell_type": "markdown",
            "metadata": {
                "nbpresent": {
                    "id": "73095bfa-2125-41b4-8457-861dee07501c"
                },
                "slideshow": {
                    "slide_type": "slide"
                },
                "id": "73d22462-f33d-4a41-8fbb-725ddfdc9036",
                "focus": false
            },
            "source": [
                "## autosave.py\n",
                "\n",
                "If enabled, the result of calls to `shifted_correlation` and `time_average` will be stored in a file.\n",
                "When the exact same call is made at a later time, the result will be loaded from this file.\n",
                "\n",
                "- The filename is deduced from the function call, but nut ALL arguments may be repersented\n",
                "- Validity of the result is assured by computing a checksum, which depends on all arguments and the function itself\n",
                "- Two additional optional keywords:\n",
                "  - `description (str)`: Will be appended to the filename\n",
                "  - `autoload (bool)`: Controlls if data will be loaded from file\n"
            ]
        },
        {
            "cell_type": "code",
            "execution_count": 2,
            "metadata": {
                "collapsed": false,
                "nbpresent": {
                    "id": "42ceb423-3cb7-464f-acb1-b0fa35faba67"
                },
                "slideshow": {
                    "slide_type": "-"
                },
                "id": "c99fe9d4-b732-4b64-b2de-17ab9a5f1f4b",
                "focus": false
            },
            "outputs": [
                {
                    "name": "stdout",
                    "output_type": "stream",
                    "text": [
                        "Enabled autosave in directory: data\n",
                        "Loading topology: ./example_data/topol.tpr\n",
                        "Loading trajectory: ./example_data/traj_full_water1000bulk300.xtc\n",
                        "Saving result to file: ./example_data/data/shifted_correlation_msd_additional_description_OW.npz\n"
                    ]
                }
            ],
            "source": [
                "md.autosave.enable('data')\n",
                "OW = md.open('./example_data').subset(atom_name='OW')\n",
                "t, msd = md.correlation.shifted_correlation(\n",
                "    md.correlation.msd,\n",
                "    OW,\n",
                "    average=True,\n",
                "    description='additional_description', # this will be added to the filename\n",
                "    autoload=True # This keyword may be used to disable autosave locally\n",
                ")"
            ]
        },
        {
            "cell_type": "markdown",
            "metadata": {
                "nbpresent": {
                    "id": "6f4b6225-37da-47cb-93a0-97c4af8cf316"
                },
                "slideshow": {
                    "slide_type": "slide"
                },
                "id": "75029a2c-414d-476b-b90c-ee6cbb3b0e80",
                "focus": false
            },
            "source": [
                "## On-the-fly conversion of CoordinateFrames\n",
                "\n",
                "- Whole: \n",
                "  - Atoms are grouped by residue_id and the center of mass of each residue is put into the box\n",
                "- Nojump: \n",
                "  - All pbc-jumps of atoms are corrected for a frame\n",
                "  - Requires a one-time generation of **nojump matrixes**, \n",
                "  - `md.open(..., nojump=True)` generates these matrixes and save them to a file, equiv. to the xtcindex files\n",
                "  - Reduced Disk Usage: Full nojump.xtc ~ 4GB vs. nojump matrxies ~ 7 MB\n",
                "  - Uses sparse matrixes internally which are efficient in memory and summation"
            ]
        },
        {
            "cell_type": "code",
            "execution_count": 3,
            "metadata": {
                "collapsed": false,
                "nbpresent": {
                    "id": "109081a8-e8a4-419c-b441-8094ad548237"
                },
                "slideshow": {
                    "slide_type": "slide"
                },
                "id": "bb70d0c6-d092-417c-af02-cc17dadc4c04",
                "focus": false
            },
            "outputs": [
                {
                    "name": "stdout",
                    "output_type": "stream",
                    "text": [
                        "Loading topology: ./example_data/topol.tpr\n",
                        "Loading trajectory: ./example_data/traj_full_water1000bulk300.xtc\n"
                    ]
                },
                {
                    "data": {
                        "text/plain": [
                            "<matplotlib.legend.Legend at 0x7ff6acb94a90>"
                        ]
                    },
                    "execution_count": 3,
                    "metadata": {},
                    "output_type": "execute_result"
                },
                {
                    "data": {
                        "image/png": "[encoded data removed]",
                        "text/plain": [
                            "<matplotlib.figure.Figure at 0x7ff6e4270470>"
                        ]
                    },
                    "metadata": {},
                    "output_type": "display_data"
                }
            ],
            "source": [
                "OW = md.open('./example_data/', nojump=True).subset(atom_name='OW')\n",
                "\n",
                "frame = OW[4000]\n",
                "figure(figsize=(5, 5))\n",
                "\n",
                "plot(frame.nojump[:, 0], frame.nojump[:, 1], '.r', label='nojump')\n",
                "plot(frame[:, 0], frame[:, 1], '.b', label='original')\n",
                "xlim(-15, 20)\n",
                "ylim(-15, 20)\n",
                "legend()"
            ]
        },
        {
            "cell_type": "code",
            "execution_count": 17,
            "metadata": {
                "collapsed": false,
                "nbpresent": {
                    "id": "8eed8809-39d2-45d1-9b2e-87defb2325be"
                },
                "slideshow": {
                    "slide_type": "slide"
                },
                "id": "11c23226-1319-4673-98e0-aebd85de254e",
                "focus": false
            },
            "outputs": [
                {
                    "name": "stdout",
                    "output_type": "stream",
                    "text": [
                        "No conversion:\n",
                        "1000 loops, best of 3: 567 µs per loop\n",
                        "Whole:\n",
                        "1000 loops, best of 3: 1.42 ms per loop\n",
                        "Nojump:\n",
                        "10 loops, best of 3: 67.4 ms per loop\n"
                    ]
                }
            ],
            "source": [
                "print('No conversion:')\n",
                "%timeit OW[9000]\n",
                "print('Whole:')\n",
                "%timeit OW[9000].whole\n",
                "print('Nojump:')\n",
                "%timeit OW[9000].nojump"
            ]
        },
        {
            "cell_type": "code",
            "execution_count": 7,
            "metadata": {
                "collapsed": false,
                "id": "4dd13e20-9b91-4db8-9698-67f56f42b6e8",
                "focus": true
            },
            "outputs": [
                {
                    "data": {
                        "text/plain": [
                            "Coordinates <./example_data/traj_full_water1000bulk300.xtc>: Subset of Atoms (3000 of 9000)"
                        ]
                    },
                    "execution_count": 7,
                    "metadata": {},
                    "output_type": "execute_result"
                }
            ],
            "source": "# How to use this in an evaluation:\n\nOW.subset(residue_name='SOL')\n# enable nojump mode, other options would be 'pbc' or 'whole'\nOW.mode = 'nojump'\nt, msd = md.correlation.shifted_correlation(\n    md.correlation.msd,\n    OW,\n    average=True\n)"
        },
        {
            "cell_type": "code",
            "execution_count": null,
            "metadata": {
                "collapsed": true,
                "id": "7ec63120-3532-4121-ae1a-93d459c11187",
                "focus": false
            },
            "outputs": [],
            "source": []
        }
    ],
    "metadata": {
        "anaconda-cloud": {},
        "celltoolbar": "Slideshow",
        "kernelspec": {
            "display_name": "Python [conda root]",
            "language": "python",
            "name": "conda-root-py"
        },
        "language_info": {
            "codemirror_mode": {
                "name": "ipython",
                "version": 3
            },
            "file_extension": ".py",
            "mimetype": "text/x-python",
            "name": "python",
            "nbconvert_exporter": "python",
            "pygments_lexer": "ipython3",
            "version": "3.5.2"
        },
        "nbpresent": {
            "slides": {
                "1b5a5c9c-b1fc-49e8-81cc-63f4bc8bb92e": {
                    "id": "1b5a5c9c-b1fc-49e8-81cc-63f4bc8bb92e",
                    "prev": "b32917c4-60cb-451f-acff-f23d4f930e7b",
                    "regions": {
                        "2f1aec72-be60-4737-87bb-7b54916908c3": {
                            "attrs": {
                                "height": 0.8,
                                "width": 0.8,
                                "x": 0.1,
                                "y": 0.1
                            },
                            "content": {
                                "cell": "8eed8809-39d2-45d1-9b2e-87defb2325be",
                                "part": "whole"
                            },
                            "id": "2f1aec72-be60-4737-87bb-7b54916908c3"
                        }
                    }
                },
                "5ab084d2-2ca7-4440-923a-81536747895d": {
                    "id": "5ab084d2-2ca7-4440-923a-81536747895d",
                    "prev": "8ccc1188-21d5-408e-b6e7-ff9db99b919e",
                    "regions": {
                        "2489ad87-22a3-4239-a3a6-d88a34e762cf": {
                            "attrs": {
                                "height": 0.8,
                                "width": 0.8,
                                "x": 0.1,
                                "y": 0.1
                            },
                            "content": {
                                "cell": "6f4b6225-37da-47cb-93a0-97c4af8cf316",
                                "part": "whole"
                            },
                            "id": "2489ad87-22a3-4239-a3a6-d88a34e762cf"
                        }
                    }
                },
                "8ccc1188-21d5-408e-b6e7-ff9db99b919e": {
                    "id": "8ccc1188-21d5-408e-b6e7-ff9db99b919e",
                    "prev": "f97b3d38-6aba-4376-bba0-50b9856c39f5",
                    "regions": {
                        "f8a4e155-4abb-49f3-b621-e40e7ef13547": {
                            "attrs": {
                                "height": 0.8,
                                "width": 0.8,
                                "x": 0.1,
                                "y": 0.1
                            },
                            "content": {
                                "cell": "42ceb423-3cb7-464f-acb1-b0fa35faba67",
                                "part": "whole"
                            },
                            "id": "f8a4e155-4abb-49f3-b621-e40e7ef13547"
                        }
                    }
                },
                "aca6cd7d-e799-4547-a051-75c9b6400f1d": {
                    "id": "aca6cd7d-e799-4547-a051-75c9b6400f1d",
                    "prev": "b6682d06-f8aa-469b-9f72-28af429e5131",
                    "regions": {
                        "4e212a3b-be93-43c6-a9fa-2816104f05a7": {
                            "attrs": {
                                "height": 0.8,
                                "width": 0.8,
                                "x": 0.1,
                                "y": 0.1
                            },
                            "content": {
                                "cell": "1f0c9a66-2a2e-4f2e-9454-a3a2ed2cd04b",
                                "part": "whole"
                            },
                            "id": "4e212a3b-be93-43c6-a9fa-2816104f05a7"
                        }
                    }
                },
                "b32917c4-60cb-451f-acff-f23d4f930e7b": {
                    "id": "b32917c4-60cb-451f-acff-f23d4f930e7b",
                    "prev": "5ab084d2-2ca7-4440-923a-81536747895d",
                    "regions": {
                        "dc35a0e6-f11d-472b-bd00-78dd95e76c05": {
                            "attrs": {
                                "height": 0.8,
                                "width": 0.8,
                                "x": 0.1,
                                "y": 0.1
                            },
                            "content": {
                                "cell": "109081a8-e8a4-419c-b441-8094ad548237",
                                "part": "whole"
                            },
                            "id": "dc35a0e6-f11d-472b-bd00-78dd95e76c05"
                        }
                    }
                },
                "b6682d06-f8aa-469b-9f72-28af429e5131": {
                    "id": "b6682d06-f8aa-469b-9f72-28af429e5131",
                    "prev": null,
                    "regions": {
                        "d879d2ff-a19c-42a4-9eb3-db359ede1988": {
                            "attrs": {
                                "height": 0.8,
                                "width": 0.8,
                                "x": 0.1,
                                "y": 0.1
                            },
                            "content": {
                                "cell": "98ae23ea-571e-4f71-945f-a606d6924876",
                                "part": "whole"
                            },
                            "id": "d879d2ff-a19c-42a4-9eb3-db359ede1988"
                        }
                    }
                },
                "e62b0e68-6a14-4189-b870-c2bcec0e1a7d": {
                    "id": "e62b0e68-6a14-4189-b870-c2bcec0e1a7d",
                    "prev": "1b5a5c9c-b1fc-49e8-81cc-63f4bc8bb92e",
                    "regions": {
                        "ee91a95d-ac7a-451a-b726-6c508df2d0af": {
                            "attrs": {
                                "height": 0.8,
                                "width": 0.8,
                                "x": 0.1,
                                "y": 0.1
                            },
                            "content": {
                                "cell": "d653b060-33bb-4fc8-8b08-38b7e5599fd7",
                                "part": "whole"
                            },
                            "id": "ee91a95d-ac7a-451a-b726-6c508df2d0af"
                        }
                    }
                },
                "f97b3d38-6aba-4376-bba0-50b9856c39f5": {
                    "id": "f97b3d38-6aba-4376-bba0-50b9856c39f5",
                    "prev": "aca6cd7d-e799-4547-a051-75c9b6400f1d",
                    "regions": {
                        "ce7df10b-1f16-4ff5-910f-25453702bd1c": {
                            "attrs": {
                                "height": 0.8,
                                "width": 0.8,
                                "x": 0.1,
                                "y": 0.1
                            },
                            "content": {
                                "cell": "73095bfa-2125-41b4-8457-861dee07501c",
                                "part": "whole"
                            },
                            "id": "ce7df10b-1f16-4ff5-910f-25453702bd1c"
                        }
                    }
                }
            },
            "themes": {}
        }
    },
    "nbformat": 4,
    "nbformat_minor": 1
}